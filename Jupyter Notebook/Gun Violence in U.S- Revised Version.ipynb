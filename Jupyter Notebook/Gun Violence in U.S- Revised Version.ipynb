{
 "cells": [
  {
   "cell_type": "markdown",
   "metadata": {},
   "source": [
    "## Introduction"
   ]
  },
  {
   "cell_type": "markdown",
   "metadata": {},
   "source": [
    "America is one of the few countries where it is constitutionally acceptable to possess guns. Due to the easy access to firearms, the homicidal rate is the highest in the USA, amongst all the developed countries and 28th highest overall. In fact, the gun violence rate in the U.S. is even higher than it is in many low-income countries. While it is expected that rich countries with strong government institutions must face lower gun death rates since lower criminal justice systems and poverty can increase violence, it is shocking to know that the USA is an outlier when compared with other developed countries with similar socioeconomic circumstances.  \n",
    "We want to draw the attention of the general public and the officials concerned with Gun Safety and Lawmaking to the persisting problem of increasing gun violence in the United States, we try to reason the cause and effects of the gun policies in the united states and visualize them. This will help spread awareness amongst the people and suitable actions can be taken by officials.  "
   ]
  },
  {
   "cell_type": "markdown",
   "metadata": {},
   "source": [
    "## Video"
   ]
  },
  {
   "cell_type": "code",
   "execution_count": 3,
   "metadata": {},
   "outputs": [],
   "source": [
    "from IPython.display import HTML"
   ]
  },
  {
   "cell_type": "code",
   "execution_count": 4,
   "metadata": {},
   "outputs": [
    {
     "data": {
      "text/html": [
       "\n",
       "<div align=\"middle\">\n",
       "<video width=\"80%\" controls>\n",
       "      <source src=\"../Images/Gun Violence in the United States.mp4\" type=\"video/mp4\">\n",
       "</video></div>"
      ],
      "text/plain": [
       "<IPython.core.display.HTML object>"
      ]
     },
     "execution_count": 4,
     "metadata": {},
     "output_type": "execute_result"
    }
   ],
   "source": [
    "HTML(\"\"\"\n",
    "<div align=\"middle\">\n",
    "<video width=\"80%\" controls>\n",
    "      <source src=\"../Images/Gun Violence in the United States.mp4\" type=\"video/mp4\">\n",
    "</video></div>\"\"\")"
   ]
  },
  {
   "cell_type": "markdown",
   "metadata": {},
   "source": [
    "## Revised Version"
   ]
  },
  {
   "cell_type": "markdown",
   "metadata": {},
   "source": [
    "### Insight 1"
   ]
  },
  {
   "cell_type": "markdown",
   "metadata": {},
   "source": [
    "#### Visualization 1:"
   ]
  },
  {
   "cell_type": "markdown",
   "metadata": {},
   "source": [
    "The visualization given below portrays a stark contrast between the population of the US and the number of civilian-owned guns in comparison with the rest of the world.  "
   ]
  },
  {
   "cell_type": "markdown",
   "metadata": {},
   "source": [
    "<img src=\"../Images/Revised/Finding1-Revisedversion.png\">"
   ]
  },
  {
   "cell_type": "markdown",
   "metadata": {},
   "source": [
    "#### Visualization 2:"
   ]
  },
  {
   "cell_type": "markdown",
   "metadata": {},
   "source": [
    "The visualization compares the number of homicides per country adjusted by population size, US leads the chart by a huge margin with approximately six times as many firearm homicides as Canada."
   ]
  },
  {
   "cell_type": "markdown",
   "metadata": {},
   "source": [
    "<img src=\"../Images/Revised/Finding1-2.png\">"
   ]
  },
  {
   "cell_type": "markdown",
   "metadata": {},
   "source": [
    "**Inference**\n",
    "\n",
    "These visualization raises several questions as follows\n",
    "\n",
    "- Why does a country with such a small global population need almost 45% of the global arms to secure the status of a free state? \n",
    "\n",
    "- Does the huge proportion of civil gun ownership guarantee a safer, secure state or does it make the state more vulnerable to self ruination?"
   ]
  },
  {
   "cell_type": "markdown",
   "metadata": {},
   "source": [
    "### Insight 2"
   ]
  },
  {
   "cell_type": "markdown",
   "metadata": {},
   "source": [
    "This visualization shows on an average mass shooting have been responsible for one death per day for the last 4 years in the US. "
   ]
  },
  {
   "cell_type": "markdown",
   "metadata": {},
   "source": [
    "<img src=\"../Images/Revised/Insight2.png\">"
   ]
  },
  {
   "cell_type": "markdown",
   "metadata": {},
   "source": [
    "**Inference:** This visualization shows how lethal and persistent the problem of gun violence is in the US."
   ]
  },
  {
   "cell_type": "markdown",
   "metadata": {},
   "source": [
    "### Insight 3"
   ]
  },
  {
   "cell_type": "markdown",
   "metadata": {},
   "source": [
    "#### Visualization 1:"
   ]
  },
  {
   "cell_type": "markdown",
   "metadata": {},
   "source": [
    "The visualization shows the number of states enforcing background checks over the years."
   ]
  },
  {
   "cell_type": "markdown",
   "metadata": {},
   "source": [
    "<img src=\"../Images/Revised/Insight3.png\">"
   ]
  },
  {
   "cell_type": "markdown",
   "metadata": {},
   "source": [
    "#### Visualization 2:"
   ]
  },
  {
   "cell_type": "markdown",
   "metadata": {},
   "source": [
    "This visualization shows the number of casualties in states enforcing and not enforcing background checks."
   ]
  },
  {
   "cell_type": "markdown",
   "metadata": {},
   "source": [
    "<img src=\"../Images/Revised/3.2.png\">"
   ]
  },
  {
   "cell_type": "markdown",
   "metadata": {},
   "source": [
    "#### Visualization 3:"
   ]
  },
  {
   "cell_type": "markdown",
   "metadata": {},
   "source": [
    "We can see a reduction in the number of fatalities after four states enforced background checks."
   ]
  },
  {
   "cell_type": "markdown",
   "metadata": {},
   "source": [
    "<img src=\"../Images/Revised/3.3.png\">"
   ]
  },
  {
   "cell_type": "markdown",
   "metadata": {},
   "source": [
    "**Inference:** Small regulations changes like stringent background checks can be the first step towards a safer tomorrow."
   ]
  },
  {
   "cell_type": "markdown",
   "metadata": {},
   "source": [
    "## Making of"
   ]
  },
  {
   "cell_type": "markdown",
   "metadata": {},
   "source": [
    "### Finding 1"
   ]
  },
  {
   "cell_type": "markdown",
   "metadata": {},
   "source": [
    "**Visualization 1 : First Version**   \n",
    "In the first version, we tried to compare the population of the United States versus the rest of the world and the average number of civilian firearms held in the United States versus other countries. "
   ]
  },
  {
   "cell_type": "markdown",
   "metadata": {},
   "source": [
    "<img src=\"../Images/FV/Finding1.jpeg\">"
   ]
  },
  {
   "cell_type": "markdown",
   "metadata": {},
   "source": [
    "**Visualization 1 : Revised Version**  "
   ]
  },
  {
   "cell_type": "markdown",
   "metadata": {},
   "source": [
    "**Improvements identified and changes made:**  \n",
    "1. We used bar charts to plot the visualization. The bar chart effectively portrayed the message that though the population of the united states is just 4.8% of the population of the world, the number of civilian firearms held is 44.8% as compared to the rest of the world. The problem with the bar chart was it consumed more space due to the huge variation in the height of the bars. (Highest for 95.19% value and lowest for 4.81%).  \n",
    "Hence, we tried switching to a pie chart in the revised version. The pie chart could accommodate in much lesser space\n",
    "as compared to the bar chart.\n",
    "\n",
    "2. In the first version, the decimal precision for percentage field was inconsistent. So in the revised version, we considered a single digit after the decimal for all the values.\n",
    "\n",
    "3. The first version had grid lines in the background which we removed in the revised version.\n",
    "\n",
    "4. We changed the title for the revised version to have the exact percentage of the average civilian firearms so that it matches exactly with the values shown in the pie chart.\n",
    "\n",
    "5. We renamed 'In/Out of the United States' to 'Country' in order to convey the filtering criteria more effectively."
   ]
  },
  {
   "cell_type": "markdown",
   "metadata": {},
   "source": [
    "<img src=\"../Images/Revised/Finding1-Revisedversion.png\">"
   ]
  },
  {
   "cell_type": "markdown",
   "metadata": {},
   "source": [
    "**Visualization 2 : First Version**   \n",
    "In the first version, we compared the homicide firearm rate per 1 million people of the United States with 13 other developed countries."
   ]
  },
  {
   "cell_type": "markdown",
   "metadata": {},
   "source": [
    "<img src=\"../Images/FV/Sheet1.png\">"
   ]
  },
  {
   "cell_type": "markdown",
   "metadata": {},
   "source": [
    "**Visualization 2 : Revised Version** "
   ]
  },
  {
   "cell_type": "markdown",
   "metadata": {},
   "source": [
    "**Improvements identified in the First Version & changes made**\n",
    "\n",
    "1. In spite of comparing the homicide by firearm rates of 13 other developed countries with the United States, now we are comparing the homicide by firearm rates of only Canada and the United States. This revised comparison is enough to state our point.\n",
    "\n",
    "2. Removed automated caption and title. Manual entries of caption and title in the Jupyter notebook has been done with a better explanation.\n",
    "\n",
    "3. The calculated field has been used and the values of homicide by firearm rates of all countries have been divided by the homicide rate of Canada, thus making Canada the base reference for comparison.\n",
    "\n",
    "4. Prominent gridlines have been used to show clearly that the homicide by firearm rate per 1 million people of the United States is approximately 6 times of that for Canada. In the first version, we compared the homicide firearm rate per 1 million people of the United States with 13 other developed countries."
   ]
  },
  {
   "cell_type": "markdown",
   "metadata": {},
   "source": [
    "<img src=\"../Images/Revised/Finding1-2.png\">"
   ]
  },
  {
   "cell_type": "markdown",
   "metadata": {},
   "source": [
    "### Finding 2\n",
    "**First Version**  \n",
    "In the first version, we attempted to analyze the number of mass shootings per year in the United States and deduced the finding that on the average US has one mass shooting per day.\n",
    "Data Set Used: Data set 4\n",
    "<img src=\"../Images/FV/FVer2.png\">"
   ]
  },
  {
   "cell_type": "markdown",
   "metadata": {},
   "source": [
    "**Improvements identified and changes made:**\n",
    "1. The first version of the visualization was not as effective as the claim we presented was not evident through the visualization.\n",
    "We decided to present the necessary data in the form of a table to convey the supporting numbers as this form of chart conveys the intent more effectively. \n",
    "2. As part of improvisation and to make our claim stronger, we tried to represent the total mass shootings across years concerning 365 Days of a year. Here a calculated parameter was created in Tableau as below.  \n",
    "**Sum([Number of Records])-365**  \n",
    "This calculated value was analyzed across years to study how close are the number of mass shootings to 365. We arrived at the below intermediate chart."
   ]
  },
  {
   "cell_type": "markdown",
   "metadata": {},
   "source": [
    "<img src=\"../Images/IM/IM2.1.png\">"
   ]
  },
  {
   "cell_type": "markdown",
   "metadata": {},
   "source": [
    "3. In the above version, the intent was not strongly conveyed and required some changes in the calculated parameter to plot the number of mass shootings per day and depict how close the average is to one mass shooting per day.  \n",
    "**(Sum([Number of Records])/365)-1**  \n",
    "We have then arrived at the below better version of the visualization which includes the necessary formatting to the axis and reference lines."
   ]
  },
  {
   "cell_type": "markdown",
   "metadata": {},
   "source": [
    "**Revised Version:**\n",
    "<img src=\"../Images/Revised/Insight2.png\">  "
   ]
  },
  {
   "cell_type": "markdown",
   "metadata": {},
   "source": [
    "### Finding 3"
   ]
  },
  {
   "cell_type": "markdown",
   "metadata": {},
   "source": [
    "**Visualization 1 : First Version**  "
   ]
  },
  {
   "cell_type": "markdown",
   "metadata": {},
   "source": [
    "This visualization represents the status of law for a background check for Gun purchase across the United States in the form of a map."
   ]
  },
  {
   "cell_type": "markdown",
   "metadata": {},
   "source": [
    "<img src=\"../Images/FV/Finding3_part0.png\">"
   ]
  },
  {
   "cell_type": "markdown",
   "metadata": {},
   "source": [
    "**Visualization 1 : Revised Version**"
   ]
  },
  {
   "cell_type": "markdown",
   "metadata": {},
   "source": [
    "**Improvements Identified in the First Version and Changes made**\n",
    "\n",
    "1. The states that have background checks for gun purchase are represented in orange and the ones without are represented in blue. The states that did not have the law initially and later enforced it was not clear. \n",
    "\n",
    "2. To resolve this issue, created a group rather than a set to group the states appropriately and represented each in a different color.\n",
    "\n",
    "3. Added labels for the different states"
   ]
  },
  {
   "cell_type": "markdown",
   "metadata": {},
   "source": [
    "<img src=\"../Images/Revised/3.1.png\"> "
   ]
  },
  {
   "cell_type": "markdown",
   "metadata": {},
   "source": [
    "To get a better idea of the number of states enforcing background laws over the we decided to drop the map and used a line chart "
   ]
  },
  {
   "cell_type": "markdown",
   "metadata": {},
   "source": [
    "<img src=\"../Images/Revised/Insight3.png\">"
   ]
  },
  {
   "cell_type": "markdown",
   "metadata": {},
   "source": [
    "**Visualization 2 : First Version**"
   ]
  },
  {
   "cell_type": "markdown",
   "metadata": {},
   "source": [
    "The following visualization depicts the following\n",
    "\n",
    "1. The total number of people killed due to gun violence is higher in states without background checks than the ones with a background check.\n",
    "\n",
    "2. The total number of people injured due to gun violence is higher in states without background checks than the ones with a background check.\n",
    "\n",
    "3. The total number of child victims due to gun violence is higher in states without background checks than the ones with a background check.\n",
    "\n",
    "4. The total number of adult victims due to gun violence is higher in states without background checks than the ones with background check"
   ]
  },
  {
   "cell_type": "markdown",
   "metadata": {},
   "source": [
    "<img src=\"../Images/FV/Finding3_part1.png\">"
   ]
  },
  {
   "cell_type": "markdown",
   "metadata": {},
   "source": [
    "**Visualization 2 : Revised Version**"
   ]
  },
  {
   "cell_type": "markdown",
   "metadata": {},
   "source": [
    "**Improvements Identified in the First Version and Changes made**\n",
    "\n",
    "\n",
    "1. There were four comparison on different data points. \n",
    "\n",
    "\n",
    "2. Included the number of people killed to emphasize on the point that lives can be saved  by enforcing background check for gun purchase.\n",
    "\n",
    "\n",
    "3. Included child victims data point to make use of the fact that the audience will be more inclined to the idea of enforcing background check when we showcase that children are affected. \n",
    "\n",
    "\n",
    "4. Injured and adult data points comparison was removed to avoid overwhelming content.\n"
   ]
  },
  {
   "cell_type": "markdown",
   "metadata": {},
   "source": [
    "<img src=\"../Images/Revised/3.2.png\">"
   ]
  },
  {
   "cell_type": "markdown",
   "metadata": {},
   "source": [
    "**Visualization 3 : First Version**"
   ]
  },
  {
   "cell_type": "markdown",
   "metadata": {},
   "source": [
    "The follwoing visualization depcits that the number of people killed over the years by Gun Violonce in States where background check for gun purchase was enforced between 2014 - 2018"
   ]
  },
  {
   "cell_type": "markdown",
   "metadata": {},
   "source": [
    "<img src=\"../Images/IM/IM3.jpeg\">"
   ]
  },
  {
   "cell_type": "markdown",
   "metadata": {},
   "source": [
    "**Visualization 3 : Revised Version**"
   ]
  },
  {
   "cell_type": "markdown",
   "metadata": {},
   "source": [
    "**Improvements Identified in the First Version and Changes made**\n",
    "\n",
    "1. The first version of  this chart had many bars and it was difficult to infer the main take away that.\n",
    "\n",
    "\n",
    "2. To represent it better, added a new calculated field to get average number of people killed before and after background check was enforced.\n",
    "\n",
    "\n",
    "3. Removed the x axis header as it was repetitive. Its represented in the legend.\n",
    "\n",
    "\n",
    "4. Increased the opacity of the column seperation between different states. "
   ]
  },
  {
   "cell_type": "markdown",
   "metadata": {},
   "source": [
    "<img src=\"../Images/Revised/3.3.png\">"
   ]
  },
  {
   "cell_type": "markdown",
   "metadata": {},
   "source": [
    "### Challenges\n",
    "1. Insight 1 (Second Visualization): Initially we plotted the data for all the developed countries and tried to compare the stats for the US directly with countries like Canada and Germany, but we felt that better representation would be the direct comparison of the data for two countries. After debating we decided to go with Canada since it was a neighboring country and had similar socio-economic trends as that of the US.  \n",
    "\n",
    "\n",
    "2. Insight 2: The initial visualization was not a very effective representation of the claim thus we used a calculated field to derive the number of mass shooting casualties for every year, we felt that better and impactful representation would show the average daily shootings.\n",
    "**Calculated field for total mass shootings across years: Sum([Number of Records])-365\n",
    "Calculated field for the number of mass shootings per day: (Sum([Number of Records])/365)-1**\n",
    "\n",
    "\n",
    "3. Insight 3 (Third Visualization):  The initial visualization had data for multiple years and was color-coded according to background check enforced, but several bars in the chart made it difficult for representation, when we tried taking an average it took average on the entire data, so it was difficult to get the right average before and after background check enforcement. We finally figured out a way by using the calculated field.  \n",
    "**Calculated field for average number of people killed before and after the background check: sum (Number_Of_People_Killed)/CountDistinct(Year(Date))**"
   ]
  },
  {
   "cell_type": "markdown",
   "metadata": {},
   "source": [
    "## Data "
   ]
  },
  {
   "cell_type": "markdown",
   "metadata": {},
   "source": [
    "The final set of visualizations have been developed from 4 datasets.\n",
    "\n",
    "<ul>\n",
    "    <li><b>Dataset 1</b>: Contains data of gun violence incidents collected from over 2,500  law enforcement, media, government, and commercial sources.<br><b>Source</b>: <a href=\"https://gunviolencearchive.org\">link</a></li><br>\n",
    "   \n",
    "   <li><b>Dataset 2</b>: Data shows where the world’s guns are and which countries have the highest rates of firearms murders? The world’s crime figures are collected by the UNODC through its annual crime survey. It has a special section of data on firearm homicides - and provides detailed information by size of population and compared to other crimes. It is not a perfect dataset - some key nations are missing from the data, including Russia, China and Afghanistan. But it does include the US, UK and many other developed nations.<br>\n",
    "    <b>Source</b>: <a href=\"https://www.theguardian.com/news/datablog/2012/jul/22/gun-homicides-ownership-world-list#data\">link</a></li><br>\n",
    "   \n",
    "   \n",
    "   <li><b>Dataset 3</b>: Federal law, which applies in all states, requires criminal background checks for all firearm sales and transfers by licensed dealers, but does not require background checks or any process for sales or transfers by unlicensed sellers. This dataset shows which US state has implemented background check in specific year.<br><b>Source</b>: <a href=\"https://everytownresearch.org/navigator/states.html?dataset=background_checks&states=NY#q-bc_required\">link</a></li><br>\n",
    "   \n",
    "   \n",
    "   <li><b>Dataset 4</b>: This final dataset has been created by appending 6 datasets that contain information on on different mass shootings that have taken place over the US from 2014 to 2019, and corresponding information about the number of casualties, the location and the date of the incident.<br><b>Source</b>: <a href=\"https://www.gunviolencearchive.org/reports\">link</a></li><br>\n",
    "   \n",
    "   <li><b>Dataset 5</b>: The dataset consists of country wise population from the year 1960-2017. We are using the world population column for the year 2017. This dataset can be merged with Dataset 2 mentioned above to show the relationship between the total population of United States and total guns owned by the civilians in United States.<br><b>Source</b>: <a href=\"https://data.worldbank.org/indicator/SP.POP.TOTL?view=chart\">link</a></li><br>\n",
    "</ul>\n"
   ]
  },
  {
   "cell_type": "markdown",
   "metadata": {},
   "source": [
    "<b>Data Preparation & Cleaning</b>: The datasets retrieved for gun violence analysis had various data fields that were irrelevant for the data analysis, also the essential data fields had some missing values or the values in those fields needed to be modified so that appropriate analytical operation could be performed on the data set. The various data cleaning operations that we used were:\n",
    "<ul>\n",
    "    <li>Dropping columns with a substantial number of null values.</li>\n",
    "    <li>Modifying data in columns for effective data analysis</li>\n",
    "    <li>Renaming columns</li>\n",
    "    <li>Dropping irrelevant data columns</li>\n",
    "</ul>\n",
    "\n",
    "The detailed working on the data exploration can be seen <a href=\"https://github.com/bharatikandakumar/Data-Visualization-Project/blob/master/Jupyter%20Notebook/Gun%20Violence%20in%20U.S-%20Data%20Exploration.ipynb\">here</a>"
   ]
  },
  {
   "cell_type": "markdown",
   "metadata": {},
   "source": [
    "## Summary\n",
    "The root cause of gun violence in the US is the easy access of guns, US being the only country among the developed countries to have a constitutional law which protects an individual right to keep and bear arms. Gun violence in US is a serious issue with almost one death per day due to mass shootings and a high rate of homicide deaths. Background checks can be an effective start to crub this problem of gun violence, the states which have implemented background check can already see the number of casulities reducing.   \n",
    "It is high time we realize the gravity of the situation because it has been a persistent problem over the years and the choice of a better tomorrow lies in our actions  "
   ]
  },
  {
   "cell_type": "markdown",
   "metadata": {},
   "source": [
    "## References"
   ]
  },
  {
   "cell_type": "markdown",
   "metadata": {},
   "source": [
    "1. Vox gun violence : <a href=\"https://www.vox.com/policy-and-politics/2017/10/2/16399418/us-gun-violence-statistics-maps-charts\">Link</a>\n",
    "2. Tableau links:\n",
    "<ul>\n",
    "    <li><a href=\"https://public.tableau.com/profile/rujuta.tamhankar#!/vizhome/PopulationVSNumberofcivilianfirearmsinUnitedStates_Revisedversion/DashboardNew?publish=yes\">Insight 1</a></li>\n",
    "    <li><a href=\"https://public.tableau.com/profile/bharati.pradayini.kandakumar#!/vizhome/Gun_Violence_In_The_UnitedStates/Dashboard1?publish=yes\">Insight 3</a></li>\n",
    "</ul>"
   ]
  }
 ],
 "metadata": {
  "kernelspec": {
   "display_name": "Python 3",
   "language": "python",
   "name": "python3"
  },
  "language_info": {
   "codemirror_mode": {
    "name": "ipython",
    "version": 3
   },
   "file_extension": ".py",
   "mimetype": "text/x-python",
   "name": "python",
   "nbconvert_exporter": "python",
   "pygments_lexer": "ipython3",
   "version": "3.7.0"
  }
 },
 "nbformat": 4,
 "nbformat_minor": 2
}
