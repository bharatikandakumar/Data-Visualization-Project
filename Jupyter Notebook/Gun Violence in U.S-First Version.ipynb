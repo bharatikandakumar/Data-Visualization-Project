{
 "cells": [
  {
   "cell_type": "markdown",
   "metadata": {},
   "source": [
    "# Gun Violence in United States of America"
   ]
  },
  {
   "cell_type": "markdown",
   "metadata": {},
   "source": [
    "## Participants"
   ]
  },
  {
   "cell_type": "markdown",
   "metadata": {},
   "source": [
    "<ul>\n",
    "    <li>Ajay Deshmukh</li>\n",
    "    <li>Vidyashree Venkatesh</li>\n",
    "    <li>Aayushi Agrawal</li>\n",
    "    <li>Rujutavivek Tamhankar</li>\n",
    "    <li>Bharatipradayini Kandakumar</li>\n",
    "</ul>"
   ]
  },
  {
   "cell_type": "markdown",
   "metadata": {},
   "source": [
    "## Project Objective"
   ]
  },
  {
   "cell_type": "markdown",
   "metadata": {},
   "source": [
    "To collect, clean and explore the datasets related to gun violence and United States of America. During the tenure of the project, the project would follow the following three stages:\n",
    "\n",
    "<b>Stage 1</b>: Data Exploration.\n",
    "\n",
    "<b>Stage 2</b>: Working on the first version of the project. Analyzing the datasets, searching for three interesting, non-trivial insights, developing visualizations for the insights.\n",
    "\n",
    "<b>Stage 3</b>: Working on the second version of project. Delivering a final data product achieved by improving the stage 2 output using the enhanced Tableau features.\n"
   ]
  },
  {
   "cell_type": "markdown",
   "metadata": {},
   "source": [
    "## Introduction"
   ]
  },
  {
   "cell_type": "markdown",
   "metadata": {},
   "source": [
    "America is one of the few countries where it is constitutionally accepted to possess guns. Due to the easy access of firearms, the homicidal rate is the highest in USA, amongst all the developed countries and 28th highest overall. In fact, the gun violence rate in the U.S. is even higher than its is in many low-income countries. While it is expected that rich countries with strong government institutions must face lower gun death rates since lower criminal justice systems and poverty can increase violence, it is shocking to know that USA is an outlier when compared with other developed countries with similar socioeconomic circumstances. "
   ]
  },
  {
   "cell_type": "markdown",
   "metadata": {},
   "source": [
    "<b>Source</b>: \n",
    "https://www.vox.com/policy-and-politics/2017/10/2/16399418/us-gun-violence-statistics-maps-charts\n",
    "https://www.npr.org/sections/goatsandsoda/2018/11/09/666209430/deaths-from-gun-violence-how-the-u-s-compares-with-the-rest-of-the-world\n",
    "https://www.vox.com/2018/8/29/17792776/us-gun-deaths-global\n"
   ]
  },
  {
   "cell_type": "markdown",
   "metadata": {},
   "source": [
    "## Summary of the data"
   ]
  },
  {
   "cell_type": "markdown",
   "metadata": {},
   "source": [
    "The first version of the visualizations have been developed from 4 datasets.\n",
    "\n",
    "<ul>\n",
    "    <li><b>Dataset 1</b>: Contains data of gun violence incidents collected from over 2,500  law enforcement, media, government, and commercial sources.\n",
    "        <b>Source</b>: gunviolencearchive.org</li>\n",
    "   \n",
    "   <li><b>Dataset 2</b>: Data shows where the world’s guns are and which countries have the highest rates of firearms murders? The world’s crime figures are collected by the UNODC through its annual crime survey. It has a special section of data on firearm homicides - and provides detailed information by size of population and compared to other crimes. It is not a perfect dataset - some key nations are missing from the data, including Russia, China and Afghanistan. But it does include the US, UK and many other developed nations.<b>Source</b>: https://www.theguardian.com/news/datablog/2012/jul/22/gun-homicides-ownership-world-list#data</li>\n",
    "   \n",
    "   \n",
    "   <li><b>Dataset 3</b>: Federal law, which applies in all states, requires criminal background checks for all firearm sales and transfers by licensed dealers, but does not require background checks or any process for sales or transfers by unlicensed sellers. This dataset shows which US state has implemented background check in specific year.<b>Source</b>: https://everytownresearch.org/navigator/states.html?dataset=background_checks&states=NY#q-bc_required</li>\n",
    "   \n",
    "   \n",
    "   <li><b>Dataset 4</b>: This final dataset has been created by appending 6 datasets that contain information on on different mass shootings that have taken place over the US from 2014 to 2019, and corresponding information about the number of casualties, the location and the date of the incident.<b>Source</b>: https://www.gunviolencearchive.org/reports</li>\n",
    "   </ul>\n"
   ]
  },
  {
   "cell_type": "markdown",
   "metadata": {},
   "source": [
    "## Stage 1 : Data exploration"
   ]
  },
  {
   "cell_type": "markdown",
   "metadata": {},
   "source": [
    "<b>Data Preparation & Cleaning</b>: The datasets retrieved for gun violence analysis had various data fields that were irrelevant for the data analysis, also the essential data fields had some missing values or the values in those fields needed to be modified so that appropriate analytical operation could be performed on the data set. The various data cleaning operations that we used were:\n",
    "<ul>\n",
    "    <li>Dropping columns with a substantial number of null values.</li>\n",
    "    <li>Modifying data in columns for effective data analysis</li>\n",
    "    <li>Renaming columns</li>\n",
    "    <li>Dropping irrelevant data columns</li>\n",
    "</ul>"
   ]
  },
  {
   "cell_type": "markdown",
   "metadata": {},
   "source": [
    "## Stage 2 : First Version"
   ]
  },
  {
   "cell_type": "markdown",
   "metadata": {},
   "source": [
    "<b>Goal</b>: To draw appealing aspects after data cleaning, the main goal is to determine if the severity and frequency of gun violence in the US is correlated with the easy access of firearms in the country."
   ]
  },
  {
   "cell_type": "markdown",
   "metadata": {},
   "source": [
    "### Finding 1\n",
    "Below visualization portrays a stark contrast between the population of the US and the number of civilian-owned guns in comparison with the rest of the world. "
   ]
  },
  {
   "cell_type": "markdown",
   "metadata": {},
   "source": [
    "<img src=\"../Images/Finding1.jpeg\" />"
   ]
  },
  {
   "cell_type": "markdown",
   "metadata": {},
   "source": [
    "For this visualization, we used the dataset for country wise number of civilian-owned guns and the total population of all countries.\n",
    "\n",
    "In this visualization, we try to reason why gun violence in the US is more lethal as compared to other countries. From the visualization, it is clear that the US has almost half of the civilian-owned guns around the world, but if we look at the population, US accounts to hardly 5% of the global population. "
   ]
  },
  {
   "cell_type": "markdown",
   "metadata": {},
   "source": [
    "<b>Result</b>: This visualization gives a fair idea that the easy availability of guns in the US and no background checks in some of the states has led to an increase in the number of guns owned by common people. This can be a possible reason that the crime in the US is more lethal as compared to crime in other countries."
   ]
  },
  {
   "cell_type": "markdown",
   "metadata": {},
   "source": [
    "### Finding 2"
   ]
  },
  {
   "cell_type": "markdown",
   "metadata": {},
   "source": [
    "While exploring the datasets, we were intrigued to know the number of mass shootings per year. We considered the dataset 4 (mentioned above). This dataset had data from 2014 to 2019 but since, the data of years 2014 and 2019 was incomplete, we filtered it out. The output was highly shocking, since it showed that on an average there has been 350 mass shootings per year meaning than on an average one mass shooting per day in America."
   ]
  },
  {
   "cell_type": "markdown",
   "metadata": {},
   "source": [
    "For this visualization, reference line has been used to show the average of the number of mass shootings."
   ]
  },
  {
   "cell_type": "markdown",
   "metadata": {},
   "source": [
    "<img src=\"../Images/Finding2_p1.png\" />"
   ]
  },
  {
   "cell_type": "markdown",
   "metadata": {},
   "source": [
    "After the above result, the next important step was to compare the gun violence rate in America with other advanced countries. On analyzing the dataset 2 (mentioned above), it was found that America has six times as many firearm homicides as Canada, and nearly 16 times as many as Germany."
   ]
  },
  {
   "cell_type": "markdown",
   "metadata": {},
   "source": [
    "<img src=\"../Images/Finding2_p2.png\" />"
   ]
  },
  {
   "cell_type": "markdown",
   "metadata": {},
   "source": [
    "<b>Result</b>:\n",
    "<ul>\n",
    "    <li>On an average there has been 350 mass shootings per year meaning than on an average one mass shooting per day in America.</li>\n",
    "    <li>America has six times as many firearm homicides as Canada, and nearly 16 times as many as Germany.</li>\n",
    "</ul>"
   ]
  },
  {
   "cell_type": "markdown",
   "metadata": {},
   "source": [
    "### Finding 3"
   ]
  },
  {
   "cell_type": "markdown",
   "metadata": {},
   "source": [
    "Analyzing the impact of law for background checks during gun purchase on the gun violence across states in USA"
   ]
  },
  {
   "cell_type": "markdown",
   "metadata": {},
   "source": [
    "The above two findings clearly shows the status of gun violence in America. The third finding takes a step towards finding solution for this problem. For this, we analyzed dataset 3 to understand in which all states of USA, the law for background check before gun purchase is enforced. The following visualization was the result of our analysis.\n",
    "\n",
    "The states in orange are the ones in which the law is enforced, the ones in blue are the ones in which the law is not enforced. The ones in dark blue color are those in which the law was not enforced in the earlier years but was later enforced in between 2014 to 2019. We have excluded these states in our current analysis and we would take it up in our next version of the project."
   ]
  },
  {
   "cell_type": "markdown",
   "metadata": {},
   "source": [
    "<img src=\"../Images/Finding3_p1.png\" />"
   ]
  },
  {
   "cell_type": "markdown",
   "metadata": {},
   "source": [
    "After getting, the information of the law enforcement in the states, we moved ahead to check whether this law has any impact on the gun violence incidents. As can be seen from the below visualization, the gun violence incidents are less in places where the law is enforced. Hence, we would recommend all states to adopt this law. "
   ]
  },
  {
   "cell_type": "markdown",
   "metadata": {},
   "source": [
    "<img src=\"../Images/Finding3_p2.png\" />"
   ]
  },
  {
   "cell_type": "markdown",
   "metadata": {},
   "source": [
    "<b>Result</b>: As we can see the incidents of gun violence is less in places where the law for background checks is enforced. Hence, it is advisable for the other states also, to enforce such laws."
   ]
  },
  {
   "cell_type": "markdown",
   "metadata": {},
   "source": [
    "## Conclusion"
   ]
  },
  {
   "cell_type": "markdown",
   "metadata": {},
   "source": [
    "The key insights derived from this project are :- \n",
    "<ul>\n",
    "    <li>Easy availability of guns in the US and no background checks in some of the states has led to an increase in the number of guns owned by common people.</li>\n",
    "\n",
    "    <li>On an average there has been 350 mass shootings per year meaning than on an average one mass shooting per day in America.</li>\n",
    "    <li>America has six times as many firearm homicides as Canada, and nearly 16 times as many as Germany.</li>\n",
    "    <li>the incidents of gun violence is less in places where the law for background checks is enforced.</li>\n",
    "</ul>"
   ]
  },
  {
   "cell_type": "markdown",
   "metadata": {},
   "source": [
    "## Road map for Final Version"
   ]
  },
  {
   "cell_type": "markdown",
   "metadata": {},
   "source": [
    "In the next and final version of our project, we would try to \n",
    "<ul>\n",
    "    <li>Add more visualizations to strengthen our existing insights.</li>\n",
    "    <li>The next version would also have meaningful dashboards by using advanced and interactive features of Tableau.</li>\n",
    "    <li>A short video (less than 90seconds) summarizing the key points of our deliverable.</li>\n",
    "</ul>"
   ]
  }
 ],
 "metadata": {
  "kernelspec": {
   "display_name": "Python 3",
   "language": "python",
   "name": "python3"
  },
  "language_info": {
   "codemirror_mode": {
    "name": "ipython",
    "version": 3
   },
   "file_extension": ".py",
   "mimetype": "text/x-python",
   "name": "python",
   "nbconvert_exporter": "python",
   "pygments_lexer": "ipython3",
   "version": "3.6.5"
  }
 },
 "nbformat": 4,
 "nbformat_minor": 2
}
